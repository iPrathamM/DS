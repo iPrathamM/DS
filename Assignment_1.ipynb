{
 "cells": [
  {
   "cell_type": "code",
   "execution_count": null,
   "id": "845ebf39",
   "metadata": {},
   "outputs": [],
   "source": [
    "1. In the below elements which of them are values or an expression? eg:- values can be\n",
    "integer or string and expressions will be mathematical operators.\n",
    "\n",
    "* is an expression\n",
    "'hello'is a value\n",
    "-87.8 is a value\n",
    "- is an expression\n",
    "/ is an expression\n",
    "+ is an expression\n",
    "6 is a value"
   ]
  },
  {
   "cell_type": "code",
   "execution_count": null,
   "id": "aa89e161",
   "metadata": {},
   "outputs": [],
   "source": [
    "2. What is the difference between string and variable?\n",
    "\n",
    "Strings are used to fill the data in Variables. These store the data that get indicated by Variables in program.\n",
    "Variables are used to store the data in code. These are sybols or representations.\n",
    "Example = A string can be 'ABCD' and a variable can be ABCD."
   ]
  },
  {
   "cell_type": "code",
   "execution_count": null,
   "id": "c6d64d72",
   "metadata": {},
   "outputs": [],
   "source": [
    "3. Describe three different data types.\n",
    "\n",
    "Strings = These are characters in sequence.\n",
    "Boolean = These are True or False values.\n",
    "int = These are integers\n",
    "float = these are decimal values"
   ]
  },
  {
   "cell_type": "code",
   "execution_count": null,
   "id": "fbff92b9",
   "metadata": {},
   "outputs": [],
   "source": [
    "4. What is an expression made up of? What do all expressions do?\n",
    "\n",
    "An expression is made up of Variables, Values, Operators and functions. Python evaluates an expression and pprovides the result."
   ]
  },
  {
   "cell_type": "code",
   "execution_count": null,
   "id": "cb26540c",
   "metadata": {},
   "outputs": [],
   "source": [
    "5. This assignment statements, like spam = 10. What is the difference between an\n",
    "expression and a statement?\n",
    "\n",
    "Expressins are assigned and Statements are defined or made. Expressions reduce after evaluation and Statements cannot be evaluated."
   ]
  },
  {
   "cell_type": "code",
   "execution_count": null,
   "id": "48fe2466",
   "metadata": {},
   "outputs": [],
   "source": [
    "6. After running the following code, what does the variable bacon contain?\n",
    "bacon = 22\n",
    "bacon + 1\n",
    "\n",
    "This will perform addition and result will be 23."
   ]
  },
  {
   "cell_type": "code",
   "execution_count": null,
   "id": "0b6457f3",
   "metadata": {},
   "outputs": [],
   "source": [
    "7. What should the values of the following two terms be?\n",
    "'spam' + 'spamspam'\n",
    "'spam' * 3\n",
    "\n",
    "'spamspamspam'\n",
    "'spamspamspam'"
   ]
  },
  {
   "cell_type": "code",
   "execution_count": null,
   "id": "b6674058",
   "metadata": {},
   "outputs": [],
   "source": [
    "8. Why is eggs a valid variable name while 100 is invalid?\n",
    "\n",
    "The Variables name cannot be just numbers. It should start with letters but can have numbers."
   ]
  },
  {
   "cell_type": "code",
   "execution_count": null,
   "id": "0a9a64d6",
   "metadata": {},
   "outputs": [],
   "source": [
    "9. What three functions can be used to get the integer, floating-point number, or string\n",
    "version of a value?\n",
    "\n",
    "int()\n",
    "float()\n",
    "str()"
   ]
  },
  {
   "cell_type": "code",
   "execution_count": null,
   "id": "a35d0379",
   "metadata": {},
   "outputs": [],
   "source": [
    "10. Why does this expression cause an error? How can you fix it?\n",
    "'I have eaten' + 99 + 'burritos.'\n",
    "\n",
    "Because 99 is an integer and strings can only be joined with + with only strings. It should be written as below.\n",
    "'I have eaten 99' + ' buritos'\n",
    "'I have eaten ' + str(99) + 'buritos'"
   ]
  }
 ],
 "metadata": {
  "kernelspec": {
   "display_name": "Python 3 (ipykernel)",
   "language": "python",
   "name": "python3"
  },
  "language_info": {
   "codemirror_mode": {
    "name": "ipython",
    "version": 3
   },
   "file_extension": ".py",
   "mimetype": "text/x-python",
   "name": "python",
   "nbconvert_exporter": "python",
   "pygments_lexer": "ipython3",
   "version": "3.10.9"
  }
 },
 "nbformat": 4,
 "nbformat_minor": 5
}
